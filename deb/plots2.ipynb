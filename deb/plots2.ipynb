{
 "cells": [
  {
   "cell_type": "code",
   "execution_count": 3,
   "metadata": {},
   "outputs": [],
   "source": [
    "from pylab import *\n",
    "import math\n",
    "import numpy as np\n",
    "import matplotlib.pyplot as plt\n",
    "d1=loadtxt('tovtest1.dat')\n",
    "d2=loadtxt('tovtest2.dat')\n",
    "d3=loadtxt('tovtest3.dat')"
   ]
  },
  {
   "cell_type": "code",
   "execution_count": 8,
   "metadata": {},
   "outputs": [],
   "source": [
    "r=d1[:,0]\n",
    "m1=d1[:,1]\n",
    "\n",
    "aux2=d2[:,1]\n",
    "aux3=d3[:,1]\n",
    "\n",
    "\n",
    "m2=zeros(len(r))\n",
    "m3=zeros(len(r))\n",
    "fc1=zeros(len(r))\n",
    "fc2=zeros(len(r))\n",
    "conv=zeros(len(r))\n",
    "\n",
    "for i in range(0,len(r)):\n",
    "    m2[i]=aux2[2*i+1]\n",
    "    m3[i]=aux3[4*i+3]"
   ]
  },
  {
   "cell_type": "code",
   "execution_count": 5,
   "metadata": {},
   "outputs": [
    {
     "data": {
      "text/plain": [
       "array([1.76399927e-01, 1.76399708e-01, 1.76399344e-01, ...,\n",
       "       1.10026685e-06, 9.69050593e-07, 8.45882745e-07])"
      ]
     },
     "execution_count": 5,
     "metadata": {},
     "output_type": "execute_result"
    }
   ],
   "source": [
    "m2"
   ]
  },
  {
   "cell_type": "code",
   "execution_count": 6,
   "metadata": {},
   "outputs": [
    {
     "data": {
      "text/plain": [
       "array([1.76399927e-01, 1.76399708e-01, 1.76399344e-01, ...,\n",
       "       1.39583907e-06, 1.25130689e-06, 1.11462899e-06])"
      ]
     },
     "execution_count": 6,
     "metadata": {},
     "output_type": "execute_result"
    }
   ],
   "source": [
    "m3"
   ]
  },
  {
   "cell_type": "code",
   "execution_count": 9,
   "metadata": {},
   "outputs": [
    {
     "data": {
      "text/plain": [
       "Text(0.5, 1.0, 'Factor de Convergencia empleando método RK4')"
      ]
     },
     "execution_count": 9,
     "metadata": {},
     "output_type": "execute_result"
    },
    {
     "data": {
      "image/png": "[encoded data removed]",
      "text/plain": [
       "<Figure size 432x288 with 1 Axes>"
      ]
     },
     "metadata": {
      "needs_background": "light"
     },
     "output_type": "display_data"
    }
   ],
   "source": [
    "fc1=abs(m1-m2)\n",
    "fc2=abs(m2-m3)\n",
    "for j in range(0,len(r)):\n",
    "    conv[j]=math.log2(fc1[j]/fc2[j])\n",
    "plt.figure()\n",
    "plt.plot(r,conv,'+')\n",
    "#plt.ylim(3.5,4.5)\n",
    "plt.title('Factor de Convergencia empleando método RK4')"
   ]
  },
  {
   "cell_type": "code",
   "execution_count": null,
   "metadata": {},
   "outputs": [],
   "source": []
  },
  {
   "cell_type": "code",
   "execution_count": null,
   "metadata": {},
   "outputs": [],
   "source": []
  }
 ],
 "metadata": {
  "kernelspec": {
   "display_name": "Python 3",
   "language": "python",
   "name": "python3"
  },
  "language_info": {
   "codemirror_mode": {
    "name": "ipython",
    "version": 3
   },
   "file_extension": ".py",
   "mimetype": "text/x-python",
   "name": "python",
   "nbconvert_exporter": "python",
   "pygments_lexer": "ipython3",
   "version": "3.8.8"
  }
 },
 "nbformat": 4,
 "nbformat_minor": 4
}
