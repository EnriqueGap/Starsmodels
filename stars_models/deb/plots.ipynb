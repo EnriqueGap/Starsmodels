{
 "cells": [
  {
   "cell_type": "code",
   "execution_count": 12,
   "metadata": {},
   "outputs": [],
   "source": [
    "from pylab import *\n",
    "import math\n",
    "import numpy as np\n",
    "import matplotlib.pyplot as plt\n",
    "d1=loadtxt('mass8.dat')\n",
    "d2=loadtxt('mass4.dat')\n",
    "d3=loadtxt('mass2.dat')\n",
    "#(x, y, y')"
   ]
  },
  {
   "cell_type": "code",
   "execution_count": 13,
   "metadata": {},
   "outputs": [
    {
     "data": {
      "text/plain": [
       "Text(0.5, 1.0, 'Factor de Convergencia empleando método RK4')"
      ]
     },
     "execution_count": 13,
     "metadata": {},
     "output_type": "execute_result"
    },
    {
     "data": {
      "image/png": "[encoded data removed]",
      "text/plain": [
       "<Figure size 432x288 with 1 Axes>"
      ]
     },
     "metadata": {
      "needs_background": "light"
     },
     "output_type": "display_data"
    }
   ],
   "source": [
    "t=d1[:,0]\n",
    "y1=d1[:,1]\n",
    "y2=d2[:,1]\n",
    "y3=d3[:,1]\n",
    "fc1=zeros(len(t))\n",
    "fc2=zeros(len(t))\n",
    "conv=zeros(len(t))\n",
    "for i in range(0,len(t)-1):\n",
    "    fc1[i]=abs(y1[i]-y2[2*i+1])\n",
    "for j in range(0,len(t)-1):\n",
    "    fc2[j]=abs(y2[2*j+1]-y3[4*j+3])\n",
    "for k in range(0,len(t)-1):\n",
    "    conv[k]=math.log2(fc1[k]/fc2[k])\n",
    "plt.figure()\n",
    "plt.plot(t,conv,'+')\n",
    "#plt.ylim(3.5,4.5)\n",
    "plt.title('Factor de Convergencia empleando método RK4')"
   ]
  },
  {
   "cell_type": "code",
   "execution_count": 14,
   "metadata": {},
   "outputs": [
    {
     "data": {
      "text/plain": [
       "array([6.4025600e-05, 1.2969780e-04, 2.0020750e-04, 2.7907130e-04,\n",
       "       3.7038720e-04, 4.7915300e-04, 6.1169110e-04, 7.7623710e-04,\n",
       "       9.8378190e-04, 1.2493086e-03, 1.5936545e-03, 2.0463790e-03,\n",
       "       0.0000000e+00])"
      ]
     },
     "execution_count": 14,
     "metadata": {},
     "output_type": "execute_result"
    }
   ],
   "source": [
    "fc1"
   ]
  },
  {
   "cell_type": "code",
   "execution_count": 15,
   "metadata": {},
   "outputs": [
    {
     "data": {
      "text/plain": [
       "array([1.605290e-05, 3.270090e-05, 5.075930e-05, 7.113980e-05,\n",
       "       9.491850e-05, 1.234215e-04, 1.583410e-04, 2.018973e-04,\n",
       "       2.570727e-04, 3.279580e-04, 4.202782e-04, 5.422073e-04,\n",
       "       0.000000e+00])"
      ]
     },
     "execution_count": 15,
     "metadata": {},
     "output_type": "execute_result"
    }
   ],
   "source": [
    "fc2"
   ]
  },
  {
   "cell_type": "code",
   "execution_count": 16,
   "metadata": {},
   "outputs": [
    {
     "data": {
      "text/plain": [
       "array([1.99581492, 1.98775176, 1.97975194, 1.97190494, 1.96427304,\n",
       "       1.95689267, 1.94976842, 1.94287577, 1.9361621 , 1.92954692,\n",
       "       1.92292236, 1.91615692, 0.        ])"
      ]
     },
     "execution_count": 16,
     "metadata": {},
     "output_type": "execute_result"
    }
   ],
   "source": [
    "conv"
   ]
  },
  {
   "cell_type": "code",
   "execution_count": null,
   "metadata": {},
   "outputs": [],
   "source": []
  }
 ],
 "metadata": {
  "kernelspec": {
   "display_name": "Python 3",
   "language": "python",
   "name": "python3"
  },
  "language_info": {
   "codemirror_mode": {
    "name": "ipython",
    "version": 3
   },
   "file_extension": ".py",
   "mimetype": "text/x-python",
   "name": "python",
   "nbconvert_exporter": "python",
   "pygments_lexer": "ipython3",
   "version": "3.8.8"
  }
 },
 "nbformat": 4,
 "nbformat_minor": 4
}
