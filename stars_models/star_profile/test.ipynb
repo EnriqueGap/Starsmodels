{
 "cells": [
  {
   "cell_type": "code",
   "execution_count": 55,
   "metadata": {},
   "outputs": [],
   "source": [
    "import numpy as np\n",
    "import matplotlib.pyplot as plt\n",
    "from astropy.io import ascii\n",
    "d1=ascii.read('profile1.dat',header_start=0)\n",
    "d2=ascii.read('profile2.dat',header_start=0)\n",
    "d3=ascii.read('profile3.dat',header_start=0)"
   ]
  },
  {
   "cell_type": "code",
   "execution_count": 56,
   "metadata": {},
   "outputs": [],
   "source": [
    "r=d1['Radius']\n",
    "m1=d1['Pressure']\n",
    "aux2=d2['Pressure']\n",
    "aux3=d3['Pressure']\n",
    "\n",
    "\n",
    "m2=np.zeros(len(r))\n",
    "m3=np.zeros(len(r))\n",
    "fc1=np.zeros(len(r))\n",
    "fc2=np.zeros(len(r))\n",
    "conv=np.zeros(len(r))\n",
    "\n",
    "for i in range(0,len(r)):\n",
    "    m2[i]=aux2[2*i+1]\n",
    "    m3[i]=aux3[4*i+3]"
   ]
  },
  {
   "cell_type": "code",
   "execution_count": 57,
   "metadata": {},
   "outputs": [
    {
     "data": {
      "text/plain": [
       "Text(0.5, 1.0, 'Factor de Convergencia empleando método RK4')"
      ]
     },
     "execution_count": 57,
     "metadata": {},
     "output_type": "execute_result"
    },
    {
     "data": {
      "image/png": "[encoded data removed]",
      "text/plain": [
       "<Figure size 432x288 with 1 Axes>"
      ]
     },
     "metadata": {
      "needs_background": "light"
     },
     "output_type": "display_data"
    }
   ],
   "source": [
    "fc1=abs(m1-m2)\n",
    "fc2=abs(m2-m3)\n",
    "for j in range(0,len(r)):\n",
    "    conv[j]=np.log2(fc1[j]/fc2[j])\n",
    "plt.figure()\n",
    "plt.plot(r,conv,'+')\n",
    "plt.title('Factor de Convergencia empleando método RK4')"
   ]
  },
  {
   "cell_type": "code",
   "execution_count": 58,
   "metadata": {},
   "outputs": [
    {
     "data": {
      "text/plain": [
       "['Radius',\n",
       " 'Barionic density',\n",
       " 'Energy',\n",
       " 'Pressure',\n",
       " 'Energy density',\n",
       " 'Rest mass',\n",
       " 'Radius metric',\n",
       " 'Time metric']"
      ]
     },
     "execution_count": 58,
     "metadata": {},
     "output_type": "execute_result"
    }
   ],
   "source": [
    "d1.colnames"
   ]
  },
  {
   "cell_type": "code",
   "execution_count": 59,
   "metadata": {},
   "outputs": [
    {
     "data": {
      "text/plain": [
       "array([1.76398174e-01, 1.76392708e-01, 1.76383599e-01, ...,\n",
       "       1.53242727e-08, 1.53242727e-08, 1.53242727e-08])"
      ]
     },
     "execution_count": 59,
     "metadata": {},
     "output_type": "execute_result"
    }
   ],
   "source": [
    "m2"
   ]
  },
  {
   "cell_type": "code",
   "execution_count": 60,
   "metadata": {},
   "outputs": [
    {
     "data": {
      "text/plain": [
       "array([1.76398177e-01, 1.76392711e-01, 1.76383603e-01, ...,\n",
       "       2.63566837e-09, 2.63566837e-09, 2.63566837e-09])"
      ]
     },
     "execution_count": 60,
     "metadata": {},
     "output_type": "execute_result"
    }
   ],
   "source": [
    "m3"
   ]
  },
  {
   "cell_type": "code",
   "execution_count": 61,
   "metadata": {},
   "outputs": [
    {
     "data": {
      "text/plain": [
       "4000"
      ]
     },
     "execution_count": 61,
     "metadata": {},
     "output_type": "execute_result"
    }
   ],
   "source": [
    "len(m3)"
   ]
  },
  {
   "cell_type": "code",
   "execution_count": 62,
   "metadata": {},
   "outputs": [
    {
     "data": {
      "text/plain": [
       "array([0.59317047, 1.42592187, 1.76061789, ..., 2.26894513, 2.26894513,\n",
       "       2.26894513])"
      ]
     },
     "execution_count": 62,
     "metadata": {},
     "output_type": "execute_result"
    }
   ],
   "source": [
    "conv"
   ]
  },
  {
   "cell_type": "code",
   "execution_count": 67,
   "metadata": {},
   "outputs": [
    {
     "data": {
      "text/plain": [
       "[<matplotlib.lines.Line2D at 0x7f2db2936310>]"
      ]
     },
     "execution_count": 67,
     "metadata": {},
     "output_type": "execute_result"
    },
    {
     "data": {
      "image/png": "[encoded data removed]",
      "text/plain": [
       "<Figure size 432x288 with 1 Axes>"
      ]
     },
     "metadata": {
      "needs_background": "light"
     },
     "output_type": "display_data"
    }
   ],
   "source": [
    "plt.figure()\n",
    "plt.plot(r,fc2,'+')"
   ]
  },
  {
   "cell_type": "code",
   "execution_count": null,
   "metadata": {},
   "outputs": [],
   "source": []
  }
 ],
 "metadata": {
  "kernelspec": {
   "display_name": "Python 3",
   "language": "python",
   "name": "python3"
  },
  "language_info": {
   "codemirror_mode": {
    "name": "ipython",
    "version": 3
   },
   "file_extension": ".py",
   "mimetype": "text/x-python",
   "name": "python",
   "nbconvert_exporter": "python",
   "pygments_lexer": "ipython3",
   "version": "3.8.8"
  }
 },
 "nbformat": 4,
 "nbformat_minor": 4
}
